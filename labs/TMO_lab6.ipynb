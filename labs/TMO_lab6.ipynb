{
  "cells": [
    {
      "cell_type": "markdown",
      "id": "fec7984e",
      "metadata": {
        "id": "fec7984e"
      },
      "source": [
        "# Лабораторная работа №6"
      ]
    },
    {
      "cell_type": "code",
      "execution_count": 10,
      "id": "J_RbNURXKiAB",
      "metadata": {
        "colab": {
          "base_uri": "https://localhost:8080/"
        },
        "id": "J_RbNURXKiAB",
        "outputId": "7f800ac3-2c2b-4d98-ca4a-6640c3365b15"
      },
      "outputs": [
        {
          "name": "stdout",
          "output_type": "stream",
          "text": [
            "Drive already mounted at /content/drive; to attempt to forcibly remount, call drive.mount(\"/content/drive\", force_remount=True).\n"
          ]
        }
      ],
      "source": [
        "from google.colab import drive\n",
        "drive.mount('/content/drive')"
      ]
    },
    {
      "cell_type": "markdown",
      "id": "cac2bedd",
      "metadata": {
        "id": "cac2bedd"
      },
      "source": [
        "**Задание**\n",
        "\n",
        "1. Выберите набор данных (датасет) для решения задачи классификации или регресии.\n",
        "\n",
        "2. В случае необходимости проведите удаление или заполнение пропусков и кодирование категориальных признаков.\n",
        "\n",
        "3. С использованием метода train_test_split разделите выборку на обучающую и тестовую.\n",
        "\n",
        "4. Обучите следующие ансамблевые модели:\n",
        "\n",
        "- одну из моделей группы стекинга.\n",
        "- модель многослойного персептрона. По желанию, вместо библиотеки scikit-learn возможно использование библиотек TensorFlow, PyTorch или других аналогичных библиотек.\n",
        "- двумя методами на выбор из семейства МГУА (один из линейных методов COMBI / MULTI + один из нелинейных методов MIA / RIA) с использованием библиотеки gmdh.  \n",
        "*В настоящее время библиотека МГУА не позволяет решать задачу классификации !!!*\n",
        "\n",
        "5. Оцените качество моделей с помощью одной из подходящих для задачи метрик. Сравните качество полученных моделей.\n",
        "\n",
        "6. В телегамм-канале потока ИУ5 в теме ТМО_МГУА напишите обратную связь по использованию библиотеки gmdh:\n",
        "\n",
        "- обнаруженные баги с приложением скриншотов ошибок, за каждый найденный баг +1 балл на экзамене;\n",
        "- опечатки в документации или учебном пособии МГУА;\n",
        "- возникшие вопросы или трудности при установке и использовании библиотеки;\n",
        "- любая другая информация (критика, предложения по улучшению и тд)."
      ]
    },
    {
      "cell_type": "code",
      "execution_count": null,
      "id": "4UkFqe7ULFfE",
      "metadata": {
        "colab": {
          "base_uri": "https://localhost:8080/"
        },
        "id": "4UkFqe7ULFfE",
        "outputId": "6351405d-6809-4a60-ff55-ad95a51a2d59"
      },
      "outputs": [
        {
          "name": "stdout",
          "output_type": "stream",
          "text": [
            "Requirement already satisfied: heamy in /usr/local/lib/python3.11/dist-packages (0.0.7)\n",
            "Requirement already satisfied: scikit-learn>=0.17.0 in /usr/local/lib/python3.11/dist-packages (from heamy) (1.6.1)\n",
            "Requirement already satisfied: pandas>=0.17.0 in /usr/local/lib/python3.11/dist-packages (from heamy) (2.2.2)\n",
            "Requirement already satisfied: six>=1.10.0 in /usr/local/lib/python3.11/dist-packages (from heamy) (1.17.0)\n",
            "Requirement already satisfied: scipy>=0.16.0 in /usr/local/lib/python3.11/dist-packages (from heamy) (1.14.1)\n",
            "Requirement already satisfied: numpy>=1.7.0 in /usr/local/lib/python3.11/dist-packages (from heamy) (1.24.4)\n",
            "Requirement already satisfied: python-dateutil>=2.8.2 in /usr/local/lib/python3.11/dist-packages (from pandas>=0.17.0->heamy) (2.8.2)\n",
            "Requirement already satisfied: pytz>=2020.1 in /usr/local/lib/python3.11/dist-packages (from pandas>=0.17.0->heamy) (2025.2)\n",
            "Requirement already satisfied: tzdata>=2022.7 in /usr/local/lib/python3.11/dist-packages (from pandas>=0.17.0->heamy) (2025.2)\n",
            "Requirement already satisfied: joblib>=1.2.0 in /usr/local/lib/python3.11/dist-packages (from scikit-learn>=0.17.0->heamy) (1.4.2)\n",
            "Requirement already satisfied: threadpoolctl>=3.1.0 in /usr/local/lib/python3.11/dist-packages (from scikit-learn>=0.17.0->heamy) (3.6.0)\n"
          ]
        }
      ],
      "source": [
        "# !pip3 install heamy"
      ]
    },
    {
      "cell_type": "markdown",
      "id": "7a9f7a1d",
      "metadata": {
        "id": "7a9f7a1d"
      },
      "source": [
        "## Импорт библиотек"
      ]
    },
    {
      "cell_type": "code",
      "execution_count": 13,
      "id": "d12e8192",
      "metadata": {
        "id": "d12e8192"
      },
      "outputs": [],
      "source": [
        "import numpy as np\n",
        "import pandas as pd\n",
        "from typing import Dict, Tuple\n",
        "from scipy import stats\n",
        "\n",
        "from sklearn.linear_model import LinearRegression\n",
        "from sklearn.model_selection import cross_val_score\n",
        "from sklearn.model_selection import train_test_split\n",
        "from sklearn.neighbors import KNeighborsRegressor\n",
        "from sklearn.model_selection import GridSearchCV, RandomizedSearchCV\n",
        "from sklearn.metrics import confusion_matrix\n",
        "from sklearn.tree import DecisionTreeRegressor, export_graphviz\n",
        "\n",
        "from sklearn.ensemble import RandomForestRegressor\n",
        "from sklearn.ensemble import ExtraTreesRegressor\n",
        "from sklearn.ensemble import GradientBoostingRegressor\n",
        "\n",
        "from sklearn.preprocessing import StandardScaler\n",
        "from sklearn.neural_network import MLPRegressor\n",
        "from sklearn.metrics import mean_absolute_error, mean_squared_error, mean_squared_log_error, median_absolute_error, r2_score\n",
        "\n",
        "from heamy.estimator import Regressor\n",
        "from heamy.pipeline import ModelsPipeline\n",
        "from heamy.dataset import Dataset\n",
        "\n",
        "import seaborn as sns\n",
        "import matplotlib.pyplot as plt\n",
        "%matplotlib inline"
      ]
    },
    {
      "cell_type": "markdown",
      "id": "hi4Epb1phQFo",
      "metadata": {
        "id": "hi4Epb1phQFo"
      },
      "source": [
        "NOTE: estimator.py  \n",
        "from inspect import ~~getargspec~~ getfullargspec"
      ]
    },
    {
      "cell_type": "markdown",
      "id": "08fe6318",
      "metadata": {
        "id": "08fe6318"
      },
      "source": [
        "## Загрузка датасета\n",
        "\n",
        "| Признак            | Описание |\n",
        "|----------------------|-------------|\n",
        "| Square_Footage     | The size of the house in square feet. Larger homes typically have higher prices. |\n",
        "| Num_Bedrooms       | The number of bedrooms in the house. More bedrooms generally increase the value of a home. |\n",
        "| Num_Bathrooms      | The number of bathrooms in the house. Houses with more bathrooms are typically priced higher. |\n",
        "| Year_Built         | The year the house was built. Older houses may be priced lower due to wear and tear. |\n",
        "| Lot_Size           | The size of the lot the house is built on, measured in acres. Larger lots tend to add value to a property. |\n",
        "| Garage_Size        | The number of cars that can fit in the garage. Houses with larger garages are usually more expensive. |\n",
        "| Neighborhood_Quality | A rating of the neighborhood’s quality on a scale of 1-10, where 10 indicates a high-quality neighborhood. Better neighborhoods usually command higher prices. |\n",
        "| House_Price (Target Variable) | The price of the house, which is the dependent variable you aim to predict. |\n"
      ]
    },
    {
      "cell_type": "code",
      "execution_count": 50,
      "id": "cf5926c6",
      "metadata": {
        "colab": {
          "base_uri": "https://localhost:8080/",
          "height": 206
        },
        "id": "cf5926c6",
        "outputId": "50879494-4665-46cf-9aea-3afc2ad0c3d3"
      },
      "outputs": [
        {
          "data": {
            "application/vnd.google.colaboratory.intrinsic+json": {
              "summary": "{\n  \"name\": \"data\",\n  \"rows\": 1000,\n  \"fields\": [\n    {\n      \"column\": \"Square_Footage\",\n      \"properties\": {\n        \"dtype\": \"number\",\n        \"std\": 1255,\n        \"min\": 503,\n        \"max\": 4999,\n        \"num_unique_values\": 894,\n        \"samples\": [\n          2408,\n          1691,\n          2693\n        ],\n        \"semantic_type\": \"\",\n        \"description\": \"\"\n      }\n    },\n    {\n      \"column\": \"Num_Bedrooms\",\n      \"properties\": {\n        \"dtype\": \"number\",\n        \"std\": 1,\n        \"min\": 1,\n        \"max\": 5,\n        \"num_unique_values\": 5,\n        \"samples\": [\n          3,\n          4,\n          1\n        ],\n        \"semantic_type\": \"\",\n        \"description\": \"\"\n      }\n    },\n    {\n      \"column\": \"Num_Bathrooms\",\n      \"properties\": {\n        \"dtype\": \"number\",\n        \"std\": 0,\n        \"min\": 1,\n        \"max\": 3,\n        \"num_unique_values\": 3,\n        \"samples\": [\n          1,\n          3,\n          2\n        ],\n        \"semantic_type\": \"\",\n        \"description\": \"\"\n      }\n    },\n    {\n      \"column\": \"Year_Built\",\n      \"properties\": {\n        \"dtype\": \"number\",\n        \"std\": 20,\n        \"min\": 1950,\n        \"max\": 2022,\n        \"num_unique_values\": 73,\n        \"samples\": [\n          1990,\n          1959,\n          1996\n        ],\n        \"semantic_type\": \"\",\n        \"description\": \"\"\n      }\n    },\n    {\n      \"column\": \"Lot_Size\",\n      \"properties\": {\n        \"dtype\": \"number\",\n        \"std\": 1.297903146066857,\n        \"min\": 0.5060582193045366,\n        \"max\": 4.989302700131234,\n        \"num_unique_values\": 1000,\n        \"samples\": [\n          2.0980924148921565,\n          1.3696223685537567,\n          1.792970224290059\n        ],\n        \"semantic_type\": \"\",\n        \"description\": \"\"\n      }\n    },\n    {\n      \"column\": \"Garage_Size\",\n      \"properties\": {\n        \"dtype\": \"number\",\n        \"std\": 0,\n        \"min\": 0,\n        \"max\": 2,\n        \"num_unique_values\": 3,\n        \"samples\": [\n          0,\n          1,\n          2\n        ],\n        \"semantic_type\": \"\",\n        \"description\": \"\"\n      }\n    },\n    {\n      \"column\": \"Neighborhood_Quality\",\n      \"properties\": {\n        \"dtype\": \"number\",\n        \"std\": 2,\n        \"min\": 1,\n        \"max\": 10,\n        \"num_unique_values\": 10,\n        \"samples\": [\n          7,\n          6,\n          2\n        ],\n        \"semantic_type\": \"\",\n        \"description\": \"\"\n      }\n    },\n    {\n      \"column\": \"House_Price\",\n      \"properties\": {\n        \"dtype\": \"number\",\n        \"std\": 253568.05837542072,\n        \"min\": 111626.85342361582,\n        \"max\": 1108236.8362913695,\n        \"num_unique_values\": 1000,\n        \"samples\": [\n          901000.4882338208,\n          494537.5115454976,\n          949404.2006657254\n        ],\n        \"semantic_type\": \"\",\n        \"description\": \"\"\n      }\n    }\n  ]\n}",
              "type": "dataframe",
              "variable_name": "data"
            },
            "text/html": [
              "\n",
              "  <div id=\"df-087fd0eb-a0ef-4808-a57c-e4eaa7d1a56a\" class=\"colab-df-container\">\n",
              "    <div>\n",
              "<style scoped>\n",
              "    .dataframe tbody tr th:only-of-type {\n",
              "        vertical-align: middle;\n",
              "    }\n",
              "\n",
              "    .dataframe tbody tr th {\n",
              "        vertical-align: top;\n",
              "    }\n",
              "\n",
              "    .dataframe thead th {\n",
              "        text-align: right;\n",
              "    }\n",
              "</style>\n",
              "<table border=\"1\" class=\"dataframe\">\n",
              "  <thead>\n",
              "    <tr style=\"text-align: right;\">\n",
              "      <th></th>\n",
              "      <th>Square_Footage</th>\n",
              "      <th>Num_Bedrooms</th>\n",
              "      <th>Num_Bathrooms</th>\n",
              "      <th>Year_Built</th>\n",
              "      <th>Lot_Size</th>\n",
              "      <th>Garage_Size</th>\n",
              "      <th>Neighborhood_Quality</th>\n",
              "      <th>House_Price</th>\n",
              "    </tr>\n",
              "  </thead>\n",
              "  <tbody>\n",
              "    <tr>\n",
              "      <th>0</th>\n",
              "      <td>1360</td>\n",
              "      <td>2</td>\n",
              "      <td>1</td>\n",
              "      <td>1981</td>\n",
              "      <td>0.599637</td>\n",
              "      <td>0</td>\n",
              "      <td>5</td>\n",
              "      <td>2.623829e+05</td>\n",
              "    </tr>\n",
              "    <tr>\n",
              "      <th>1</th>\n",
              "      <td>4272</td>\n",
              "      <td>3</td>\n",
              "      <td>3</td>\n",
              "      <td>2016</td>\n",
              "      <td>4.753014</td>\n",
              "      <td>1</td>\n",
              "      <td>6</td>\n",
              "      <td>9.852609e+05</td>\n",
              "    </tr>\n",
              "    <tr>\n",
              "      <th>2</th>\n",
              "      <td>3592</td>\n",
              "      <td>1</td>\n",
              "      <td>2</td>\n",
              "      <td>2016</td>\n",
              "      <td>3.634823</td>\n",
              "      <td>0</td>\n",
              "      <td>9</td>\n",
              "      <td>7.779774e+05</td>\n",
              "    </tr>\n",
              "    <tr>\n",
              "      <th>3</th>\n",
              "      <td>966</td>\n",
              "      <td>1</td>\n",
              "      <td>2</td>\n",
              "      <td>1977</td>\n",
              "      <td>2.730667</td>\n",
              "      <td>1</td>\n",
              "      <td>8</td>\n",
              "      <td>2.296989e+05</td>\n",
              "    </tr>\n",
              "    <tr>\n",
              "      <th>4</th>\n",
              "      <td>4926</td>\n",
              "      <td>2</td>\n",
              "      <td>1</td>\n",
              "      <td>1993</td>\n",
              "      <td>4.699073</td>\n",
              "      <td>0</td>\n",
              "      <td>8</td>\n",
              "      <td>1.041741e+06</td>\n",
              "    </tr>\n",
              "  </tbody>\n",
              "</table>\n",
              "</div>\n",
              "    <div class=\"colab-df-buttons\">\n",
              "\n",
              "  <div class=\"colab-df-container\">\n",
              "    <button class=\"colab-df-convert\" onclick=\"convertToInteractive('df-087fd0eb-a0ef-4808-a57c-e4eaa7d1a56a')\"\n",
              "            title=\"Convert this dataframe to an interactive table.\"\n",
              "            style=\"display:none;\">\n",
              "\n",
              "  <svg xmlns=\"http://www.w3.org/2000/svg\" height=\"24px\" viewBox=\"0 -960 960 960\">\n",
              "    <path d=\"M120-120v-720h720v720H120Zm60-500h600v-160H180v160Zm220 220h160v-160H400v160Zm0 220h160v-160H400v160ZM180-400h160v-160H180v160Zm440 0h160v-160H620v160ZM180-180h160v-160H180v160Zm440 0h160v-160H620v160Z\"/>\n",
              "  </svg>\n",
              "    </button>\n",
              "\n",
              "  <style>\n",
              "    .colab-df-container {\n",
              "      display:flex;\n",
              "      gap: 12px;\n",
              "    }\n",
              "\n",
              "    .colab-df-convert {\n",
              "      background-color: #E8F0FE;\n",
              "      border: none;\n",
              "      border-radius: 50%;\n",
              "      cursor: pointer;\n",
              "      display: none;\n",
              "      fill: #1967D2;\n",
              "      height: 32px;\n",
              "      padding: 0 0 0 0;\n",
              "      width: 32px;\n",
              "    }\n",
              "\n",
              "    .colab-df-convert:hover {\n",
              "      background-color: #E2EBFA;\n",
              "      box-shadow: 0px 1px 2px rgba(60, 64, 67, 0.3), 0px 1px 3px 1px rgba(60, 64, 67, 0.15);\n",
              "      fill: #174EA6;\n",
              "    }\n",
              "\n",
              "    .colab-df-buttons div {\n",
              "      margin-bottom: 4px;\n",
              "    }\n",
              "\n",
              "    [theme=dark] .colab-df-convert {\n",
              "      background-color: #3B4455;\n",
              "      fill: #D2E3FC;\n",
              "    }\n",
              "\n",
              "    [theme=dark] .colab-df-convert:hover {\n",
              "      background-color: #434B5C;\n",
              "      box-shadow: 0px 1px 3px 1px rgba(0, 0, 0, 0.15);\n",
              "      filter: drop-shadow(0px 1px 2px rgba(0, 0, 0, 0.3));\n",
              "      fill: #FFFFFF;\n",
              "    }\n",
              "  </style>\n",
              "\n",
              "    <script>\n",
              "      const buttonEl =\n",
              "        document.querySelector('#df-087fd0eb-a0ef-4808-a57c-e4eaa7d1a56a button.colab-df-convert');\n",
              "      buttonEl.style.display =\n",
              "        google.colab.kernel.accessAllowed ? 'block' : 'none';\n",
              "\n",
              "      async function convertToInteractive(key) {\n",
              "        const element = document.querySelector('#df-087fd0eb-a0ef-4808-a57c-e4eaa7d1a56a');\n",
              "        const dataTable =\n",
              "          await google.colab.kernel.invokeFunction('convertToInteractive',\n",
              "                                                    [key], {});\n",
              "        if (!dataTable) return;\n",
              "\n",
              "        const docLinkHtml = 'Like what you see? Visit the ' +\n",
              "          '<a target=\"_blank\" href=https://colab.research.google.com/notebooks/data_table.ipynb>data table notebook</a>'\n",
              "          + ' to learn more about interactive tables.';\n",
              "        element.innerHTML = '';\n",
              "        dataTable['output_type'] = 'display_data';\n",
              "        await google.colab.output.renderOutput(dataTable, element);\n",
              "        const docLink = document.createElement('div');\n",
              "        docLink.innerHTML = docLinkHtml;\n",
              "        element.appendChild(docLink);\n",
              "      }\n",
              "    </script>\n",
              "  </div>\n",
              "\n",
              "\n",
              "<div id=\"df-aed09cfd-e760-4236-bf82-071706bc7eaf\">\n",
              "  <button class=\"colab-df-quickchart\" onclick=\"quickchart('df-aed09cfd-e760-4236-bf82-071706bc7eaf')\"\n",
              "            title=\"Suggest charts\"\n",
              "            style=\"display:none;\">\n",
              "\n",
              "<svg xmlns=\"http://www.w3.org/2000/svg\" height=\"24px\"viewBox=\"0 0 24 24\"\n",
              "     width=\"24px\">\n",
              "    <g>\n",
              "        <path d=\"M19 3H5c-1.1 0-2 .9-2 2v14c0 1.1.9 2 2 2h14c1.1 0 2-.9 2-2V5c0-1.1-.9-2-2-2zM9 17H7v-7h2v7zm4 0h-2V7h2v10zm4 0h-2v-4h2v4z\"/>\n",
              "    </g>\n",
              "</svg>\n",
              "  </button>\n",
              "\n",
              "<style>\n",
              "  .colab-df-quickchart {\n",
              "      --bg-color: #E8F0FE;\n",
              "      --fill-color: #1967D2;\n",
              "      --hover-bg-color: #E2EBFA;\n",
              "      --hover-fill-color: #174EA6;\n",
              "      --disabled-fill-color: #AAA;\n",
              "      --disabled-bg-color: #DDD;\n",
              "  }\n",
              "\n",
              "  [theme=dark] .colab-df-quickchart {\n",
              "      --bg-color: #3B4455;\n",
              "      --fill-color: #D2E3FC;\n",
              "      --hover-bg-color: #434B5C;\n",
              "      --hover-fill-color: #FFFFFF;\n",
              "      --disabled-bg-color: #3B4455;\n",
              "      --disabled-fill-color: #666;\n",
              "  }\n",
              "\n",
              "  .colab-df-quickchart {\n",
              "    background-color: var(--bg-color);\n",
              "    border: none;\n",
              "    border-radius: 50%;\n",
              "    cursor: pointer;\n",
              "    display: none;\n",
              "    fill: var(--fill-color);\n",
              "    height: 32px;\n",
              "    padding: 0;\n",
              "    width: 32px;\n",
              "  }\n",
              "\n",
              "  .colab-df-quickchart:hover {\n",
              "    background-color: var(--hover-bg-color);\n",
              "    box-shadow: 0 1px 2px rgba(60, 64, 67, 0.3), 0 1px 3px 1px rgba(60, 64, 67, 0.15);\n",
              "    fill: var(--button-hover-fill-color);\n",
              "  }\n",
              "\n",
              "  .colab-df-quickchart-complete:disabled,\n",
              "  .colab-df-quickchart-complete:disabled:hover {\n",
              "    background-color: var(--disabled-bg-color);\n",
              "    fill: var(--disabled-fill-color);\n",
              "    box-shadow: none;\n",
              "  }\n",
              "\n",
              "  .colab-df-spinner {\n",
              "    border: 2px solid var(--fill-color);\n",
              "    border-color: transparent;\n",
              "    border-bottom-color: var(--fill-color);\n",
              "    animation:\n",
              "      spin 1s steps(1) infinite;\n",
              "  }\n",
              "\n",
              "  @keyframes spin {\n",
              "    0% {\n",
              "      border-color: transparent;\n",
              "      border-bottom-color: var(--fill-color);\n",
              "      border-left-color: var(--fill-color);\n",
              "    }\n",
              "    20% {\n",
              "      border-color: transparent;\n",
              "      border-left-color: var(--fill-color);\n",
              "      border-top-color: var(--fill-color);\n",
              "    }\n",
              "    30% {\n",
              "      border-color: transparent;\n",
              "      border-left-color: var(--fill-color);\n",
              "      border-top-color: var(--fill-color);\n",
              "      border-right-color: var(--fill-color);\n",
              "    }\n",
              "    40% {\n",
              "      border-color: transparent;\n",
              "      border-right-color: var(--fill-color);\n",
              "      border-top-color: var(--fill-color);\n",
              "    }\n",
              "    60% {\n",
              "      border-color: transparent;\n",
              "      border-right-color: var(--fill-color);\n",
              "    }\n",
              "    80% {\n",
              "      border-color: transparent;\n",
              "      border-right-color: var(--fill-color);\n",
              "      border-bottom-color: var(--fill-color);\n",
              "    }\n",
              "    90% {\n",
              "      border-color: transparent;\n",
              "      border-bottom-color: var(--fill-color);\n",
              "    }\n",
              "  }\n",
              "</style>\n",
              "\n",
              "  <script>\n",
              "    async function quickchart(key) {\n",
              "      const quickchartButtonEl =\n",
              "        document.querySelector('#' + key + ' button');\n",
              "      quickchartButtonEl.disabled = true;  // To prevent multiple clicks.\n",
              "      quickchartButtonEl.classList.add('colab-df-spinner');\n",
              "      try {\n",
              "        const charts = await google.colab.kernel.invokeFunction(\n",
              "            'suggestCharts', [key], {});\n",
              "      } catch (error) {\n",
              "        console.error('Error during call to suggestCharts:', error);\n",
              "      }\n",
              "      quickchartButtonEl.classList.remove('colab-df-spinner');\n",
              "      quickchartButtonEl.classList.add('colab-df-quickchart-complete');\n",
              "    }\n",
              "    (() => {\n",
              "      let quickchartButtonEl =\n",
              "        document.querySelector('#df-aed09cfd-e760-4236-bf82-071706bc7eaf button');\n",
              "      quickchartButtonEl.style.display =\n",
              "        google.colab.kernel.accessAllowed ? 'block' : 'none';\n",
              "    })();\n",
              "  </script>\n",
              "</div>\n",
              "    </div>\n",
              "  </div>\n"
            ],
            "text/plain": [
              "   Square_Footage  Num_Bedrooms  Num_Bathrooms  Year_Built  Lot_Size  \\\n",
              "0            1360             2              1        1981  0.599637   \n",
              "1            4272             3              3        2016  4.753014   \n",
              "2            3592             1              2        2016  3.634823   \n",
              "3             966             1              2        1977  2.730667   \n",
              "4            4926             2              1        1993  4.699073   \n",
              "\n",
              "   Garage_Size  Neighborhood_Quality   House_Price  \n",
              "0            0                     5  2.623829e+05  \n",
              "1            1                     6  9.852609e+05  \n",
              "2            0                     9  7.779774e+05  \n",
              "3            1                     8  2.296989e+05  \n",
              "4            0                     8  1.041741e+06  "
            ]
          },
          "execution_count": 50,
          "metadata": {},
          "output_type": "execute_result"
        }
      ],
      "source": [
        "data = pd.read_csv(\"/content/drive/MyDrive/Colab Notebooks/house_price_dataset.csv\")\n",
        "data.head()"
      ]
    },
    {
      "cell_type": "markdown",
      "id": "a3076e32",
      "metadata": {
        "id": "a3076e32"
      },
      "source": [
        "## Первичный анализ датасета"
      ]
    },
    {
      "cell_type": "code",
      "execution_count": 15,
      "id": "01643af0",
      "metadata": {
        "colab": {
          "base_uri": "https://localhost:8080/",
          "height": 334
        },
        "id": "01643af0",
        "outputId": "f4fb0ba9-c17b-47ed-83d7-ad21b83b6f3a"
      },
      "outputs": [
        {
          "data": {
            "text/html": [
              "<div>\n",
              "<style scoped>\n",
              "    .dataframe tbody tr th:only-of-type {\n",
              "        vertical-align: middle;\n",
              "    }\n",
              "\n",
              "    .dataframe tbody tr th {\n",
              "        vertical-align: top;\n",
              "    }\n",
              "\n",
              "    .dataframe thead th {\n",
              "        text-align: right;\n",
              "    }\n",
              "</style>\n",
              "<table border=\"1\" class=\"dataframe\">\n",
              "  <thead>\n",
              "    <tr style=\"text-align: right;\">\n",
              "      <th></th>\n",
              "      <th>0</th>\n",
              "    </tr>\n",
              "  </thead>\n",
              "  <tbody>\n",
              "    <tr>\n",
              "      <th>Square_Footage</th>\n",
              "      <td>0</td>\n",
              "    </tr>\n",
              "    <tr>\n",
              "      <th>Num_Bedrooms</th>\n",
              "      <td>0</td>\n",
              "    </tr>\n",
              "    <tr>\n",
              "      <th>Num_Bathrooms</th>\n",
              "      <td>0</td>\n",
              "    </tr>\n",
              "    <tr>\n",
              "      <th>Year_Built</th>\n",
              "      <td>0</td>\n",
              "    </tr>\n",
              "    <tr>\n",
              "      <th>Lot_Size</th>\n",
              "      <td>0</td>\n",
              "    </tr>\n",
              "    <tr>\n",
              "      <th>Garage_Size</th>\n",
              "      <td>0</td>\n",
              "    </tr>\n",
              "    <tr>\n",
              "      <th>Neighborhood_Quality</th>\n",
              "      <td>0</td>\n",
              "    </tr>\n",
              "    <tr>\n",
              "      <th>House_Price</th>\n",
              "      <td>0</td>\n",
              "    </tr>\n",
              "  </tbody>\n",
              "</table>\n",
              "</div><br><label><b>dtype:</b> int64</label>"
            ],
            "text/plain": [
              "Square_Footage          0\n",
              "Num_Bedrooms            0\n",
              "Num_Bathrooms           0\n",
              "Year_Built              0\n",
              "Lot_Size                0\n",
              "Garage_Size             0\n",
              "Neighborhood_Quality    0\n",
              "House_Price             0\n",
              "dtype: int64"
            ]
          },
          "execution_count": 15,
          "metadata": {},
          "output_type": "execute_result"
        }
      ],
      "source": [
        "data.isnull().sum() # --> нет пропусков в данных"
      ]
    },
    {
      "cell_type": "code",
      "execution_count": null,
      "id": "536b12ef",
      "metadata": {
        "colab": {
          "base_uri": "https://localhost:8080/"
        },
        "id": "536b12ef",
        "outputId": "0ed6ffdc-8f80-45ac-8da6-103fac780707"
      },
      "outputs": [
        {
          "name": "stdout",
          "output_type": "stream",
          "text": [
            "<class 'pandas.core.frame.DataFrame'>\n",
            "RangeIndex: 1000 entries, 0 to 999\n",
            "Data columns (total 8 columns):\n",
            " #   Column                Non-Null Count  Dtype  \n",
            "---  ------                --------------  -----  \n",
            " 0   Square_Footage        1000 non-null   int64  \n",
            " 1   Num_Bedrooms          1000 non-null   int64  \n",
            " 2   Num_Bathrooms         1000 non-null   int64  \n",
            " 3   Year_Built            1000 non-null   int64  \n",
            " 4   Lot_Size              1000 non-null   float64\n",
            " 5   Garage_Size           1000 non-null   int64  \n",
            " 6   Neighborhood_Quality  1000 non-null   int64  \n",
            " 7   House_Price           1000 non-null   float64\n",
            "dtypes: float64(2), int64(6)\n",
            "memory usage: 62.6 KB\n"
          ]
        }
      ],
      "source": [
        "data.info()"
      ]
    },
    {
      "cell_type": "code",
      "execution_count": null,
      "id": "e21334ae",
      "metadata": {
        "colab": {
          "base_uri": "https://localhost:8080/",
          "height": 334
        },
        "id": "e21334ae",
        "outputId": "ad859a9a-fc4c-4334-a5f1-b306cf0588e2"
      },
      "outputs": [
        {
          "data": {
            "text/html": [
              "<div>\n",
              "<style scoped>\n",
              "    .dataframe tbody tr th:only-of-type {\n",
              "        vertical-align: middle;\n",
              "    }\n",
              "\n",
              "    .dataframe tbody tr th {\n",
              "        vertical-align: top;\n",
              "    }\n",
              "\n",
              "    .dataframe thead th {\n",
              "        text-align: right;\n",
              "    }\n",
              "</style>\n",
              "<table border=\"1\" class=\"dataframe\">\n",
              "  <thead>\n",
              "    <tr style=\"text-align: right;\">\n",
              "      <th></th>\n",
              "      <th>0</th>\n",
              "    </tr>\n",
              "  </thead>\n",
              "  <tbody>\n",
              "    <tr>\n",
              "      <th>Square_Footage</th>\n",
              "      <td>894</td>\n",
              "    </tr>\n",
              "    <tr>\n",
              "      <th>Num_Bedrooms</th>\n",
              "      <td>5</td>\n",
              "    </tr>\n",
              "    <tr>\n",
              "      <th>Num_Bathrooms</th>\n",
              "      <td>3</td>\n",
              "    </tr>\n",
              "    <tr>\n",
              "      <th>Year_Built</th>\n",
              "      <td>73</td>\n",
              "    </tr>\n",
              "    <tr>\n",
              "      <th>Lot_Size</th>\n",
              "      <td>1000</td>\n",
              "    </tr>\n",
              "    <tr>\n",
              "      <th>Garage_Size</th>\n",
              "      <td>3</td>\n",
              "    </tr>\n",
              "    <tr>\n",
              "      <th>Neighborhood_Quality</th>\n",
              "      <td>10</td>\n",
              "    </tr>\n",
              "    <tr>\n",
              "      <th>House_Price</th>\n",
              "      <td>1000</td>\n",
              "    </tr>\n",
              "  </tbody>\n",
              "</table>\n",
              "</div><br><label><b>dtype:</b> int64</label>"
            ],
            "text/plain": [
              "Square_Footage           894\n",
              "Num_Bedrooms               5\n",
              "Num_Bathrooms              3\n",
              "Year_Built                73\n",
              "Lot_Size                1000\n",
              "Garage_Size                3\n",
              "Neighborhood_Quality      10\n",
              "House_Price             1000\n",
              "dtype: int64"
            ]
          },
          "execution_count": 10,
          "metadata": {},
          "output_type": "execute_result"
        }
      ],
      "source": [
        "data.nunique()"
      ]
    },
    {
      "cell_type": "code",
      "execution_count": 18,
      "id": "8a37327f",
      "metadata": {
        "colab": {
          "base_uri": "https://localhost:8080/",
          "height": 300
        },
        "id": "8a37327f",
        "outputId": "804b7ff6-27e7-4b47-ac02-e0e0e88d8067"
      },
      "outputs": [
        {
          "data": {
            "application/vnd.google.colaboratory.intrinsic+json": {
              "summary": "{\n  \"name\": \"data\",\n  \"rows\": 8,\n  \"fields\": [\n    {\n      \"column\": \"count\",\n      \"properties\": {\n        \"dtype\": \"number\",\n        \"std\": 0.0,\n        \"min\": 1000.0,\n        \"max\": 1000.0,\n        \"num_unique_values\": 1,\n        \"samples\": [\n          1000.0\n        ],\n        \"semantic_type\": \"\",\n        \"description\": \"\"\n      }\n    },\n    {\n      \"column\": \"mean\",\n      \"properties\": {\n        \"dtype\": \"number\",\n        \"std\": 218559.94630492394,\n        \"min\": 1.022,\n        \"max\": 618861.0186467685,\n        \"num_unique_values\": 8,\n        \"samples\": [\n          2.99\n        ],\n        \"semantic_type\": \"\",\n        \"description\": \"\"\n      }\n    },\n    {\n      \"column\": \"std\",\n      \"properties\": {\n        \"dtype\": \"number\",\n        \"std\": 89586.0950879159,\n        \"min\": 0.8149725027141613,\n        \"max\": 253568.05837542072,\n        \"num_unique_values\": 8,\n        \"samples\": [\n          1.4275636370887024\n        ],\n        \"semantic_type\": \"\",\n        \"description\": \"\"\n      }\n    },\n    {\n      \"column\": \"min\",\n      \"properties\": {\n        \"dtype\": \"number\",\n        \"std\": 39347.7777620483,\n        \"min\": 0.0,\n        \"max\": 111626.85342361582,\n        \"num_unique_values\": 6,\n        \"samples\": [\n          503.0\n        ],\n        \"semantic_type\": \"\",\n        \"description\": \"\"\n      }\n    },\n    {\n      \"column\": \"25%\",\n      \"properties\": {\n        \"dtype\": \"number\",\n        \"std\": 141818.38864923766,\n        \"min\": 0.0,\n        \"max\": 401648.22890926147,\n        \"num_unique_values\": 8,\n        \"samples\": [\n          2.0\n        ],\n        \"semantic_type\": \"\",\n        \"description\": \"\"\n      }\n    },\n    {\n      \"column\": \"50%\",\n      \"properties\": {\n        \"dtype\": \"number\",\n        \"std\": 221883.2165618591,\n        \"min\": 1.0,\n        \"max\": 628267.2911288175,\n        \"num_unique_values\": 8,\n        \"samples\": [\n          3.0\n        ],\n        \"semantic_type\": \"\",\n        \"description\": \"\"\n      }\n    },\n    {\n      \"column\": \"75%\",\n      \"properties\": {\n        \"dtype\": \"number\",\n        \"std\": 292145.28727267124,\n        \"min\": 2.0,\n        \"max\": 827141.2776368674,\n        \"num_unique_values\": 8,\n        \"samples\": [\n          4.0\n        ],\n        \"semantic_type\": \"\",\n        \"description\": \"\"\n      }\n    },\n    {\n      \"column\": \"max\",\n      \"properties\": {\n        \"dtype\": \"number\",\n        \"std\": 391469.02656675526,\n        \"min\": 2.0,\n        \"max\": 1108236.8362913695,\n        \"num_unique_values\": 8,\n        \"samples\": [\n          5.0\n        ],\n        \"semantic_type\": \"\",\n        \"description\": \"\"\n      }\n    }\n  ]\n}",
              "type": "dataframe"
            },
            "text/html": [
              "\n",
              "  <div id=\"df-0304bc2f-8e6f-43cb-b5b2-0c6e53c8b759\" class=\"colab-df-container\">\n",
              "    <div>\n",
              "<style scoped>\n",
              "    .dataframe tbody tr th:only-of-type {\n",
              "        vertical-align: middle;\n",
              "    }\n",
              "\n",
              "    .dataframe tbody tr th {\n",
              "        vertical-align: top;\n",
              "    }\n",
              "\n",
              "    .dataframe thead th {\n",
              "        text-align: right;\n",
              "    }\n",
              "</style>\n",
              "<table border=\"1\" class=\"dataframe\">\n",
              "  <thead>\n",
              "    <tr style=\"text-align: right;\">\n",
              "      <th></th>\n",
              "      <th>count</th>\n",
              "      <th>mean</th>\n",
              "      <th>std</th>\n",
              "      <th>min</th>\n",
              "      <th>25%</th>\n",
              "      <th>50%</th>\n",
              "      <th>75%</th>\n",
              "      <th>max</th>\n",
              "    </tr>\n",
              "  </thead>\n",
              "  <tbody>\n",
              "    <tr>\n",
              "      <th>Square_Footage</th>\n",
              "      <td>1000.0</td>\n",
              "      <td>2815.422000</td>\n",
              "      <td>1255.514921</td>\n",
              "      <td>503.000000</td>\n",
              "      <td>1749.500000</td>\n",
              "      <td>2862.500000</td>\n",
              "      <td>3849.500000</td>\n",
              "      <td>4.999000e+03</td>\n",
              "    </tr>\n",
              "    <tr>\n",
              "      <th>Num_Bedrooms</th>\n",
              "      <td>1000.0</td>\n",
              "      <td>2.990000</td>\n",
              "      <td>1.427564</td>\n",
              "      <td>1.000000</td>\n",
              "      <td>2.000000</td>\n",
              "      <td>3.000000</td>\n",
              "      <td>4.000000</td>\n",
              "      <td>5.000000e+00</td>\n",
              "    </tr>\n",
              "    <tr>\n",
              "      <th>Num_Bathrooms</th>\n",
              "      <td>1000.0</td>\n",
              "      <td>1.973000</td>\n",
              "      <td>0.820332</td>\n",
              "      <td>1.000000</td>\n",
              "      <td>1.000000</td>\n",
              "      <td>2.000000</td>\n",
              "      <td>3.000000</td>\n",
              "      <td>3.000000e+00</td>\n",
              "    </tr>\n",
              "    <tr>\n",
              "      <th>Year_Built</th>\n",
              "      <td>1000.0</td>\n",
              "      <td>1986.550000</td>\n",
              "      <td>20.632916</td>\n",
              "      <td>1950.000000</td>\n",
              "      <td>1969.000000</td>\n",
              "      <td>1986.000000</td>\n",
              "      <td>2004.250000</td>\n",
              "      <td>2.022000e+03</td>\n",
              "    </tr>\n",
              "    <tr>\n",
              "      <th>Lot_Size</th>\n",
              "      <td>1000.0</td>\n",
              "      <td>2.778087</td>\n",
              "      <td>1.297903</td>\n",
              "      <td>0.506058</td>\n",
              "      <td>1.665946</td>\n",
              "      <td>2.809740</td>\n",
              "      <td>3.923317</td>\n",
              "      <td>4.989303e+00</td>\n",
              "    </tr>\n",
              "    <tr>\n",
              "      <th>Garage_Size</th>\n",
              "      <td>1000.0</td>\n",
              "      <td>1.022000</td>\n",
              "      <td>0.814973</td>\n",
              "      <td>0.000000</td>\n",
              "      <td>0.000000</td>\n",
              "      <td>1.000000</td>\n",
              "      <td>2.000000</td>\n",
              "      <td>2.000000e+00</td>\n",
              "    </tr>\n",
              "    <tr>\n",
              "      <th>Neighborhood_Quality</th>\n",
              "      <td>1000.0</td>\n",
              "      <td>5.615000</td>\n",
              "      <td>2.887059</td>\n",
              "      <td>1.000000</td>\n",
              "      <td>3.000000</td>\n",
              "      <td>6.000000</td>\n",
              "      <td>8.000000</td>\n",
              "      <td>1.000000e+01</td>\n",
              "    </tr>\n",
              "    <tr>\n",
              "      <th>House_Price</th>\n",
              "      <td>1000.0</td>\n",
              "      <td>618861.018647</td>\n",
              "      <td>253568.058375</td>\n",
              "      <td>111626.853424</td>\n",
              "      <td>401648.228909</td>\n",
              "      <td>628267.291129</td>\n",
              "      <td>827141.277637</td>\n",
              "      <td>1.108237e+06</td>\n",
              "    </tr>\n",
              "  </tbody>\n",
              "</table>\n",
              "</div>\n",
              "    <div class=\"colab-df-buttons\">\n",
              "\n",
              "  <div class=\"colab-df-container\">\n",
              "    <button class=\"colab-df-convert\" onclick=\"convertToInteractive('df-0304bc2f-8e6f-43cb-b5b2-0c6e53c8b759')\"\n",
              "            title=\"Convert this dataframe to an interactive table.\"\n",
              "            style=\"display:none;\">\n",
              "\n",
              "  <svg xmlns=\"http://www.w3.org/2000/svg\" height=\"24px\" viewBox=\"0 -960 960 960\">\n",
              "    <path d=\"M120-120v-720h720v720H120Zm60-500h600v-160H180v160Zm220 220h160v-160H400v160Zm0 220h160v-160H400v160ZM180-400h160v-160H180v160Zm440 0h160v-160H620v160ZM180-180h160v-160H180v160Zm440 0h160v-160H620v160Z\"/>\n",
              "  </svg>\n",
              "    </button>\n",
              "\n",
              "  <style>\n",
              "    .colab-df-container {\n",
              "      display:flex;\n",
              "      gap: 12px;\n",
              "    }\n",
              "\n",
              "    .colab-df-convert {\n",
              "      background-color: #E8F0FE;\n",
              "      border: none;\n",
              "      border-radius: 50%;\n",
              "      cursor: pointer;\n",
              "      display: none;\n",
              "      fill: #1967D2;\n",
              "      height: 32px;\n",
              "      padding: 0 0 0 0;\n",
              "      width: 32px;\n",
              "    }\n",
              "\n",
              "    .colab-df-convert:hover {\n",
              "      background-color: #E2EBFA;\n",
              "      box-shadow: 0px 1px 2px rgba(60, 64, 67, 0.3), 0px 1px 3px 1px rgba(60, 64, 67, 0.15);\n",
              "      fill: #174EA6;\n",
              "    }\n",
              "\n",
              "    .colab-df-buttons div {\n",
              "      margin-bottom: 4px;\n",
              "    }\n",
              "\n",
              "    [theme=dark] .colab-df-convert {\n",
              "      background-color: #3B4455;\n",
              "      fill: #D2E3FC;\n",
              "    }\n",
              "\n",
              "    [theme=dark] .colab-df-convert:hover {\n",
              "      background-color: #434B5C;\n",
              "      box-shadow: 0px 1px 3px 1px rgba(0, 0, 0, 0.15);\n",
              "      filter: drop-shadow(0px 1px 2px rgba(0, 0, 0, 0.3));\n",
              "      fill: #FFFFFF;\n",
              "    }\n",
              "  </style>\n",
              "\n",
              "    <script>\n",
              "      const buttonEl =\n",
              "        document.querySelector('#df-0304bc2f-8e6f-43cb-b5b2-0c6e53c8b759 button.colab-df-convert');\n",
              "      buttonEl.style.display =\n",
              "        google.colab.kernel.accessAllowed ? 'block' : 'none';\n",
              "\n",
              "      async function convertToInteractive(key) {\n",
              "        const element = document.querySelector('#df-0304bc2f-8e6f-43cb-b5b2-0c6e53c8b759');\n",
              "        const dataTable =\n",
              "          await google.colab.kernel.invokeFunction('convertToInteractive',\n",
              "                                                    [key], {});\n",
              "        if (!dataTable) return;\n",
              "\n",
              "        const docLinkHtml = 'Like what you see? Visit the ' +\n",
              "          '<a target=\"_blank\" href=https://colab.research.google.com/notebooks/data_table.ipynb>data table notebook</a>'\n",
              "          + ' to learn more about interactive tables.';\n",
              "        element.innerHTML = '';\n",
              "        dataTable['output_type'] = 'display_data';\n",
              "        await google.colab.output.renderOutput(dataTable, element);\n",
              "        const docLink = document.createElement('div');\n",
              "        docLink.innerHTML = docLinkHtml;\n",
              "        element.appendChild(docLink);\n",
              "      }\n",
              "    </script>\n",
              "  </div>\n",
              "\n",
              "\n",
              "<div id=\"df-642c73c0-abcd-4e90-a738-f78929406e64\">\n",
              "  <button class=\"colab-df-quickchart\" onclick=\"quickchart('df-642c73c0-abcd-4e90-a738-f78929406e64')\"\n",
              "            title=\"Suggest charts\"\n",
              "            style=\"display:none;\">\n",
              "\n",
              "<svg xmlns=\"http://www.w3.org/2000/svg\" height=\"24px\"viewBox=\"0 0 24 24\"\n",
              "     width=\"24px\">\n",
              "    <g>\n",
              "        <path d=\"M19 3H5c-1.1 0-2 .9-2 2v14c0 1.1.9 2 2 2h14c1.1 0 2-.9 2-2V5c0-1.1-.9-2-2-2zM9 17H7v-7h2v7zm4 0h-2V7h2v10zm4 0h-2v-4h2v4z\"/>\n",
              "    </g>\n",
              "</svg>\n",
              "  </button>\n",
              "\n",
              "<style>\n",
              "  .colab-df-quickchart {\n",
              "      --bg-color: #E8F0FE;\n",
              "      --fill-color: #1967D2;\n",
              "      --hover-bg-color: #E2EBFA;\n",
              "      --hover-fill-color: #174EA6;\n",
              "      --disabled-fill-color: #AAA;\n",
              "      --disabled-bg-color: #DDD;\n",
              "  }\n",
              "\n",
              "  [theme=dark] .colab-df-quickchart {\n",
              "      --bg-color: #3B4455;\n",
              "      --fill-color: #D2E3FC;\n",
              "      --hover-bg-color: #434B5C;\n",
              "      --hover-fill-color: #FFFFFF;\n",
              "      --disabled-bg-color: #3B4455;\n",
              "      --disabled-fill-color: #666;\n",
              "  }\n",
              "\n",
              "  .colab-df-quickchart {\n",
              "    background-color: var(--bg-color);\n",
              "    border: none;\n",
              "    border-radius: 50%;\n",
              "    cursor: pointer;\n",
              "    display: none;\n",
              "    fill: var(--fill-color);\n",
              "    height: 32px;\n",
              "    padding: 0;\n",
              "    width: 32px;\n",
              "  }\n",
              "\n",
              "  .colab-df-quickchart:hover {\n",
              "    background-color: var(--hover-bg-color);\n",
              "    box-shadow: 0 1px 2px rgba(60, 64, 67, 0.3), 0 1px 3px 1px rgba(60, 64, 67, 0.15);\n",
              "    fill: var(--button-hover-fill-color);\n",
              "  }\n",
              "\n",
              "  .colab-df-quickchart-complete:disabled,\n",
              "  .colab-df-quickchart-complete:disabled:hover {\n",
              "    background-color: var(--disabled-bg-color);\n",
              "    fill: var(--disabled-fill-color);\n",
              "    box-shadow: none;\n",
              "  }\n",
              "\n",
              "  .colab-df-spinner {\n",
              "    border: 2px solid var(--fill-color);\n",
              "    border-color: transparent;\n",
              "    border-bottom-color: var(--fill-color);\n",
              "    animation:\n",
              "      spin 1s steps(1) infinite;\n",
              "  }\n",
              "\n",
              "  @keyframes spin {\n",
              "    0% {\n",
              "      border-color: transparent;\n",
              "      border-bottom-color: var(--fill-color);\n",
              "      border-left-color: var(--fill-color);\n",
              "    }\n",
              "    20% {\n",
              "      border-color: transparent;\n",
              "      border-left-color: var(--fill-color);\n",
              "      border-top-color: var(--fill-color);\n",
              "    }\n",
              "    30% {\n",
              "      border-color: transparent;\n",
              "      border-left-color: var(--fill-color);\n",
              "      border-top-color: var(--fill-color);\n",
              "      border-right-color: var(--fill-color);\n",
              "    }\n",
              "    40% {\n",
              "      border-color: transparent;\n",
              "      border-right-color: var(--fill-color);\n",
              "      border-top-color: var(--fill-color);\n",
              "    }\n",
              "    60% {\n",
              "      border-color: transparent;\n",
              "      border-right-color: var(--fill-color);\n",
              "    }\n",
              "    80% {\n",
              "      border-color: transparent;\n",
              "      border-right-color: var(--fill-color);\n",
              "      border-bottom-color: var(--fill-color);\n",
              "    }\n",
              "    90% {\n",
              "      border-color: transparent;\n",
              "      border-bottom-color: var(--fill-color);\n",
              "    }\n",
              "  }\n",
              "</style>\n",
              "\n",
              "  <script>\n",
              "    async function quickchart(key) {\n",
              "      const quickchartButtonEl =\n",
              "        document.querySelector('#' + key + ' button');\n",
              "      quickchartButtonEl.disabled = true;  // To prevent multiple clicks.\n",
              "      quickchartButtonEl.classList.add('colab-df-spinner');\n",
              "      try {\n",
              "        const charts = await google.colab.kernel.invokeFunction(\n",
              "            'suggestCharts', [key], {});\n",
              "      } catch (error) {\n",
              "        console.error('Error during call to suggestCharts:', error);\n",
              "      }\n",
              "      quickchartButtonEl.classList.remove('colab-df-spinner');\n",
              "      quickchartButtonEl.classList.add('colab-df-quickchart-complete');\n",
              "    }\n",
              "    (() => {\n",
              "      let quickchartButtonEl =\n",
              "        document.querySelector('#df-642c73c0-abcd-4e90-a738-f78929406e64 button');\n",
              "      quickchartButtonEl.style.display =\n",
              "        google.colab.kernel.accessAllowed ? 'block' : 'none';\n",
              "    })();\n",
              "  </script>\n",
              "</div>\n",
              "    </div>\n",
              "  </div>\n"
            ],
            "text/plain": [
              "                       count           mean            std            min  \\\n",
              "Square_Footage        1000.0    2815.422000    1255.514921     503.000000   \n",
              "Num_Bedrooms          1000.0       2.990000       1.427564       1.000000   \n",
              "Num_Bathrooms         1000.0       1.973000       0.820332       1.000000   \n",
              "Year_Built            1000.0    1986.550000      20.632916    1950.000000   \n",
              "Lot_Size              1000.0       2.778087       1.297903       0.506058   \n",
              "Garage_Size           1000.0       1.022000       0.814973       0.000000   \n",
              "Neighborhood_Quality  1000.0       5.615000       2.887059       1.000000   \n",
              "House_Price           1000.0  618861.018647  253568.058375  111626.853424   \n",
              "\n",
              "                                25%            50%            75%  \\\n",
              "Square_Footage          1749.500000    2862.500000    3849.500000   \n",
              "Num_Bedrooms               2.000000       3.000000       4.000000   \n",
              "Num_Bathrooms              1.000000       2.000000       3.000000   \n",
              "Year_Built              1969.000000    1986.000000    2004.250000   \n",
              "Lot_Size                   1.665946       2.809740       3.923317   \n",
              "Garage_Size                0.000000       1.000000       2.000000   \n",
              "Neighborhood_Quality       3.000000       6.000000       8.000000   \n",
              "House_Price           401648.228909  628267.291129  827141.277637   \n",
              "\n",
              "                               max  \n",
              "Square_Footage        4.999000e+03  \n",
              "Num_Bedrooms          5.000000e+00  \n",
              "Num_Bathrooms         3.000000e+00  \n",
              "Year_Built            2.022000e+03  \n",
              "Lot_Size              4.989303e+00  \n",
              "Garage_Size           2.000000e+00  \n",
              "Neighborhood_Quality  1.000000e+01  \n",
              "House_Price           1.108237e+06  "
            ]
          },
          "execution_count": 18,
          "metadata": {},
          "output_type": "execute_result"
        }
      ],
      "source": [
        "data.describe().T"
      ]
    },
    {
      "cell_type": "markdown",
      "id": "S-5HLq_D9fyT",
      "metadata": {
        "id": "S-5HLq_D9fyT"
      },
      "source": [
        "## Подготовка датасета"
      ]
    },
    {
      "cell_type": "code",
      "execution_count": 19,
      "id": "5ba25cbc",
      "metadata": {
        "colab": {
          "base_uri": "https://localhost:8080/",
          "height": 603
        },
        "id": "5ba25cbc",
        "outputId": "2a7caa4c-6325-4fa7-d78d-20baf4d31ea8"
      },
      "outputs": [
        {
          "data": {
            "text/plain": [
              "<Axes: >"
            ]
          },
          "execution_count": 19,
          "metadata": {},
          "output_type": "execute_result"
        },
        {
          "data": {
            "image/png": "[encoded data removed]",
            "text/plain": [
              "<Figure size 1200x500 with 1 Axes>"
            ]
          },
          "metadata": {},
          "output_type": "display_data"
        }
      ],
      "source": [
        "fig, ax = plt.subplots(figsize=(12,5))\n",
        "sns.heatmap(data.corr(method='pearson'), ax=ax, annot=True, cbar=False, fmt='.2f')"
      ]
    },
    {
      "cell_type": "code",
      "execution_count": 51,
      "id": "naVeDWWJ9jw2",
      "metadata": {
        "colab": {
          "base_uri": "https://localhost:8080/",
          "height": 206
        },
        "id": "naVeDWWJ9jw2",
        "outputId": "3cfd7872-95c9-4192-dcaf-d27cdc0ee360"
      },
      "outputs": [
        {
          "data": {
            "application/vnd.google.colaboratory.intrinsic+json": {
              "summary": "{\n  \"name\": \"data\",\n  \"rows\": 1000,\n  \"fields\": [\n    {\n      \"column\": \"Square_Footage\",\n      \"properties\": {\n        \"dtype\": \"number\",\n        \"std\": 1255,\n        \"min\": 503,\n        \"max\": 4999,\n        \"num_unique_values\": 894,\n        \"samples\": [\n          2408,\n          1691,\n          2693\n        ],\n        \"semantic_type\": \"\",\n        \"description\": \"\"\n      }\n    },\n    {\n      \"column\": \"Num_Bedrooms\",\n      \"properties\": {\n        \"dtype\": \"number\",\n        \"std\": 1,\n        \"min\": 1,\n        \"max\": 5,\n        \"num_unique_values\": 5,\n        \"samples\": [\n          3,\n          4,\n          1\n        ],\n        \"semantic_type\": \"\",\n        \"description\": \"\"\n      }\n    },\n    {\n      \"column\": \"Num_Bathrooms\",\n      \"properties\": {\n        \"dtype\": \"number\",\n        \"std\": 0,\n        \"min\": 1,\n        \"max\": 3,\n        \"num_unique_values\": 3,\n        \"samples\": [\n          1,\n          3,\n          2\n        ],\n        \"semantic_type\": \"\",\n        \"description\": \"\"\n      }\n    },\n    {\n      \"column\": \"Lot_Size\",\n      \"properties\": {\n        \"dtype\": \"number\",\n        \"std\": 1.297903146066857,\n        \"min\": 0.5060582193045366,\n        \"max\": 4.989302700131234,\n        \"num_unique_values\": 1000,\n        \"samples\": [\n          2.0980924148921565,\n          1.3696223685537567,\n          1.792970224290059\n        ],\n        \"semantic_type\": \"\",\n        \"description\": \"\"\n      }\n    },\n    {\n      \"column\": \"Garage_Size\",\n      \"properties\": {\n        \"dtype\": \"number\",\n        \"std\": 0,\n        \"min\": 0,\n        \"max\": 2,\n        \"num_unique_values\": 3,\n        \"samples\": [\n          0,\n          1,\n          2\n        ],\n        \"semantic_type\": \"\",\n        \"description\": \"\"\n      }\n    },\n    {\n      \"column\": \"Neighborhood_Quality\",\n      \"properties\": {\n        \"dtype\": \"number\",\n        \"std\": 2,\n        \"min\": 1,\n        \"max\": 10,\n        \"num_unique_values\": 10,\n        \"samples\": [\n          7,\n          6,\n          2\n        ],\n        \"semantic_type\": \"\",\n        \"description\": \"\"\n      }\n    },\n    {\n      \"column\": \"House_Price\",\n      \"properties\": {\n        \"dtype\": \"number\",\n        \"std\": 253568.05837542072,\n        \"min\": 111626.85342361582,\n        \"max\": 1108236.8362913695,\n        \"num_unique_values\": 1000,\n        \"samples\": [\n          901000.4882338208,\n          494537.5115454976,\n          949404.2006657254\n        ],\n        \"semantic_type\": \"\",\n        \"description\": \"\"\n      }\n    },\n    {\n      \"column\": \"House_Age\",\n      \"properties\": {\n        \"dtype\": \"number\",\n        \"std\": 20,\n        \"min\": 3,\n        \"max\": 75,\n        \"num_unique_values\": 73,\n        \"samples\": [\n          35,\n          66,\n          29\n        ],\n        \"semantic_type\": \"\",\n        \"description\": \"\"\n      }\n    }\n  ]\n}",
              "type": "dataframe",
              "variable_name": "data"
            },
            "text/html": [
              "\n",
              "  <div id=\"df-b623c853-1f47-48be-8d88-0173d2909d50\" class=\"colab-df-container\">\n",
              "    <div>\n",
              "<style scoped>\n",
              "    .dataframe tbody tr th:only-of-type {\n",
              "        vertical-align: middle;\n",
              "    }\n",
              "\n",
              "    .dataframe tbody tr th {\n",
              "        vertical-align: top;\n",
              "    }\n",
              "\n",
              "    .dataframe thead th {\n",
              "        text-align: right;\n",
              "    }\n",
              "</style>\n",
              "<table border=\"1\" class=\"dataframe\">\n",
              "  <thead>\n",
              "    <tr style=\"text-align: right;\">\n",
              "      <th></th>\n",
              "      <th>Square_Footage</th>\n",
              "      <th>Num_Bedrooms</th>\n",
              "      <th>Num_Bathrooms</th>\n",
              "      <th>Lot_Size</th>\n",
              "      <th>Garage_Size</th>\n",
              "      <th>Neighborhood_Quality</th>\n",
              "      <th>House_Price</th>\n",
              "      <th>House_Age</th>\n",
              "    </tr>\n",
              "  </thead>\n",
              "  <tbody>\n",
              "    <tr>\n",
              "      <th>0</th>\n",
              "      <td>1360</td>\n",
              "      <td>2</td>\n",
              "      <td>1</td>\n",
              "      <td>0.599637</td>\n",
              "      <td>0</td>\n",
              "      <td>5</td>\n",
              "      <td>2.623829e+05</td>\n",
              "      <td>44</td>\n",
              "    </tr>\n",
              "    <tr>\n",
              "      <th>1</th>\n",
              "      <td>4272</td>\n",
              "      <td>3</td>\n",
              "      <td>3</td>\n",
              "      <td>4.753014</td>\n",
              "      <td>1</td>\n",
              "      <td>6</td>\n",
              "      <td>9.852609e+05</td>\n",
              "      <td>9</td>\n",
              "    </tr>\n",
              "    <tr>\n",
              "      <th>2</th>\n",
              "      <td>3592</td>\n",
              "      <td>1</td>\n",
              "      <td>2</td>\n",
              "      <td>3.634823</td>\n",
              "      <td>0</td>\n",
              "      <td>9</td>\n",
              "      <td>7.779774e+05</td>\n",
              "      <td>9</td>\n",
              "    </tr>\n",
              "    <tr>\n",
              "      <th>3</th>\n",
              "      <td>966</td>\n",
              "      <td>1</td>\n",
              "      <td>2</td>\n",
              "      <td>2.730667</td>\n",
              "      <td>1</td>\n",
              "      <td>8</td>\n",
              "      <td>2.296989e+05</td>\n",
              "      <td>48</td>\n",
              "    </tr>\n",
              "    <tr>\n",
              "      <th>4</th>\n",
              "      <td>4926</td>\n",
              "      <td>2</td>\n",
              "      <td>1</td>\n",
              "      <td>4.699073</td>\n",
              "      <td>0</td>\n",
              "      <td>8</td>\n",
              "      <td>1.041741e+06</td>\n",
              "      <td>32</td>\n",
              "    </tr>\n",
              "  </tbody>\n",
              "</table>\n",
              "</div>\n",
              "    <div class=\"colab-df-buttons\">\n",
              "\n",
              "  <div class=\"colab-df-container\">\n",
              "    <button class=\"colab-df-convert\" onclick=\"convertToInteractive('df-b623c853-1f47-48be-8d88-0173d2909d50')\"\n",
              "            title=\"Convert this dataframe to an interactive table.\"\n",
              "            style=\"display:none;\">\n",
              "\n",
              "  <svg xmlns=\"http://www.w3.org/2000/svg\" height=\"24px\" viewBox=\"0 -960 960 960\">\n",
              "    <path d=\"M120-120v-720h720v720H120Zm60-500h600v-160H180v160Zm220 220h160v-160H400v160Zm0 220h160v-160H400v160ZM180-400h160v-160H180v160Zm440 0h160v-160H620v160ZM180-180h160v-160H180v160Zm440 0h160v-160H620v160Z\"/>\n",
              "  </svg>\n",
              "    </button>\n",
              "\n",
              "  <style>\n",
              "    .colab-df-container {\n",
              "      display:flex;\n",
              "      gap: 12px;\n",
              "    }\n",
              "\n",
              "    .colab-df-convert {\n",
              "      background-color: #E8F0FE;\n",
              "      border: none;\n",
              "      border-radius: 50%;\n",
              "      cursor: pointer;\n",
              "      display: none;\n",
              "      fill: #1967D2;\n",
              "      height: 32px;\n",
              "      padding: 0 0 0 0;\n",
              "      width: 32px;\n",
              "    }\n",
              "\n",
              "    .colab-df-convert:hover {\n",
              "      background-color: #E2EBFA;\n",
              "      box-shadow: 0px 1px 2px rgba(60, 64, 67, 0.3), 0px 1px 3px 1px rgba(60, 64, 67, 0.15);\n",
              "      fill: #174EA6;\n",
              "    }\n",
              "\n",
              "    .colab-df-buttons div {\n",
              "      margin-bottom: 4px;\n",
              "    }\n",
              "\n",
              "    [theme=dark] .colab-df-convert {\n",
              "      background-color: #3B4455;\n",
              "      fill: #D2E3FC;\n",
              "    }\n",
              "\n",
              "    [theme=dark] .colab-df-convert:hover {\n",
              "      background-color: #434B5C;\n",
              "      box-shadow: 0px 1px 3px 1px rgba(0, 0, 0, 0.15);\n",
              "      filter: drop-shadow(0px 1px 2px rgba(0, 0, 0, 0.3));\n",
              "      fill: #FFFFFF;\n",
              "    }\n",
              "  </style>\n",
              "\n",
              "    <script>\n",
              "      const buttonEl =\n",
              "        document.querySelector('#df-b623c853-1f47-48be-8d88-0173d2909d50 button.colab-df-convert');\n",
              "      buttonEl.style.display =\n",
              "        google.colab.kernel.accessAllowed ? 'block' : 'none';\n",
              "\n",
              "      async function convertToInteractive(key) {\n",
              "        const element = document.querySelector('#df-b623c853-1f47-48be-8d88-0173d2909d50');\n",
              "        const dataTable =\n",
              "          await google.colab.kernel.invokeFunction('convertToInteractive',\n",
              "                                                    [key], {});\n",
              "        if (!dataTable) return;\n",
              "\n",
              "        const docLinkHtml = 'Like what you see? Visit the ' +\n",
              "          '<a target=\"_blank\" href=https://colab.research.google.com/notebooks/data_table.ipynb>data table notebook</a>'\n",
              "          + ' to learn more about interactive tables.';\n",
              "        element.innerHTML = '';\n",
              "        dataTable['output_type'] = 'display_data';\n",
              "        await google.colab.output.renderOutput(dataTable, element);\n",
              "        const docLink = document.createElement('div');\n",
              "        docLink.innerHTML = docLinkHtml;\n",
              "        element.appendChild(docLink);\n",
              "      }\n",
              "    </script>\n",
              "  </div>\n",
              "\n",
              "\n",
              "<div id=\"df-54c7abdf-d4f5-4c87-ae22-5e7768fd6df1\">\n",
              "  <button class=\"colab-df-quickchart\" onclick=\"quickchart('df-54c7abdf-d4f5-4c87-ae22-5e7768fd6df1')\"\n",
              "            title=\"Suggest charts\"\n",
              "            style=\"display:none;\">\n",
              "\n",
              "<svg xmlns=\"http://www.w3.org/2000/svg\" height=\"24px\"viewBox=\"0 0 24 24\"\n",
              "     width=\"24px\">\n",
              "    <g>\n",
              "        <path d=\"M19 3H5c-1.1 0-2 .9-2 2v14c0 1.1.9 2 2 2h14c1.1 0 2-.9 2-2V5c0-1.1-.9-2-2-2zM9 17H7v-7h2v7zm4 0h-2V7h2v10zm4 0h-2v-4h2v4z\"/>\n",
              "    </g>\n",
              "</svg>\n",
              "  </button>\n",
              "\n",
              "<style>\n",
              "  .colab-df-quickchart {\n",
              "      --bg-color: #E8F0FE;\n",
              "      --fill-color: #1967D2;\n",
              "      --hover-bg-color: #E2EBFA;\n",
              "      --hover-fill-color: #174EA6;\n",
              "      --disabled-fill-color: #AAA;\n",
              "      --disabled-bg-color: #DDD;\n",
              "  }\n",
              "\n",
              "  [theme=dark] .colab-df-quickchart {\n",
              "      --bg-color: #3B4455;\n",
              "      --fill-color: #D2E3FC;\n",
              "      --hover-bg-color: #434B5C;\n",
              "      --hover-fill-color: #FFFFFF;\n",
              "      --disabled-bg-color: #3B4455;\n",
              "      --disabled-fill-color: #666;\n",
              "  }\n",
              "\n",
              "  .colab-df-quickchart {\n",
              "    background-color: var(--bg-color);\n",
              "    border: none;\n",
              "    border-radius: 50%;\n",
              "    cursor: pointer;\n",
              "    display: none;\n",
              "    fill: var(--fill-color);\n",
              "    height: 32px;\n",
              "    padding: 0;\n",
              "    width: 32px;\n",
              "  }\n",
              "\n",
              "  .colab-df-quickchart:hover {\n",
              "    background-color: var(--hover-bg-color);\n",
              "    box-shadow: 0 1px 2px rgba(60, 64, 67, 0.3), 0 1px 3px 1px rgba(60, 64, 67, 0.15);\n",
              "    fill: var(--button-hover-fill-color);\n",
              "  }\n",
              "\n",
              "  .colab-df-quickchart-complete:disabled,\n",
              "  .colab-df-quickchart-complete:disabled:hover {\n",
              "    background-color: var(--disabled-bg-color);\n",
              "    fill: var(--disabled-fill-color);\n",
              "    box-shadow: none;\n",
              "  }\n",
              "\n",
              "  .colab-df-spinner {\n",
              "    border: 2px solid var(--fill-color);\n",
              "    border-color: transparent;\n",
              "    border-bottom-color: var(--fill-color);\n",
              "    animation:\n",
              "      spin 1s steps(1) infinite;\n",
              "  }\n",
              "\n",
              "  @keyframes spin {\n",
              "    0% {\n",
              "      border-color: transparent;\n",
              "      border-bottom-color: var(--fill-color);\n",
              "      border-left-color: var(--fill-color);\n",
              "    }\n",
              "    20% {\n",
              "      border-color: transparent;\n",
              "      border-left-color: var(--fill-color);\n",
              "      border-top-color: var(--fill-color);\n",
              "    }\n",
              "    30% {\n",
              "      border-color: transparent;\n",
              "      border-left-color: var(--fill-color);\n",
              "      border-top-color: var(--fill-color);\n",
              "      border-right-color: var(--fill-color);\n",
              "    }\n",
              "    40% {\n",
              "      border-color: transparent;\n",
              "      border-right-color: var(--fill-color);\n",
              "      border-top-color: var(--fill-color);\n",
              "    }\n",
              "    60% {\n",
              "      border-color: transparent;\n",
              "      border-right-color: var(--fill-color);\n",
              "    }\n",
              "    80% {\n",
              "      border-color: transparent;\n",
              "      border-right-color: var(--fill-color);\n",
              "      border-bottom-color: var(--fill-color);\n",
              "    }\n",
              "    90% {\n",
              "      border-color: transparent;\n",
              "      border-bottom-color: var(--fill-color);\n",
              "    }\n",
              "  }\n",
              "</style>\n",
              "\n",
              "  <script>\n",
              "    async function quickchart(key) {\n",
              "      const quickchartButtonEl =\n",
              "        document.querySelector('#' + key + ' button');\n",
              "      quickchartButtonEl.disabled = true;  // To prevent multiple clicks.\n",
              "      quickchartButtonEl.classList.add('colab-df-spinner');\n",
              "      try {\n",
              "        const charts = await google.colab.kernel.invokeFunction(\n",
              "            'suggestCharts', [key], {});\n",
              "      } catch (error) {\n",
              "        console.error('Error during call to suggestCharts:', error);\n",
              "      }\n",
              "      quickchartButtonEl.classList.remove('colab-df-spinner');\n",
              "      quickchartButtonEl.classList.add('colab-df-quickchart-complete');\n",
              "    }\n",
              "    (() => {\n",
              "      let quickchartButtonEl =\n",
              "        document.querySelector('#df-54c7abdf-d4f5-4c87-ae22-5e7768fd6df1 button');\n",
              "      quickchartButtonEl.style.display =\n",
              "        google.colab.kernel.accessAllowed ? 'block' : 'none';\n",
              "    })();\n",
              "  </script>\n",
              "</div>\n",
              "    </div>\n",
              "  </div>\n"
            ],
            "text/plain": [
              "   Square_Footage  Num_Bedrooms  Num_Bathrooms  Lot_Size  Garage_Size  \\\n",
              "0            1360             2              1  0.599637            0   \n",
              "1            4272             3              3  4.753014            1   \n",
              "2            3592             1              2  3.634823            0   \n",
              "3             966             1              2  2.730667            1   \n",
              "4            4926             2              1  4.699073            0   \n",
              "\n",
              "   Neighborhood_Quality   House_Price  House_Age  \n",
              "0                     5  2.623829e+05         44  \n",
              "1                     6  9.852609e+05          9  \n",
              "2                     9  7.779774e+05          9  \n",
              "3                     8  2.296989e+05         48  \n",
              "4                     8  1.041741e+06         32  "
            ]
          },
          "execution_count": 51,
          "metadata": {},
          "output_type": "execute_result"
        }
      ],
      "source": [
        "from datetime import datetime\n",
        "\n",
        "current_year = datetime.now().year\n",
        "\n",
        "# Замена Year_Built на возраст дома в годах\n",
        "data['House_Age'] = current_year - data['Year_Built']\n",
        "\n",
        "data.drop('Year_Built', axis=1, inplace=True)\n",
        "\n",
        "data.head()"
      ]
    },
    {
      "cell_type": "code",
      "execution_count": 52,
      "id": "FLMLl2H49-nG",
      "metadata": {
        "colab": {
          "base_uri": "https://localhost:8080/",
          "height": 603
        },
        "id": "FLMLl2H49-nG",
        "outputId": "2cbff53c-e932-436a-e8f3-959951683003"
      },
      "outputs": [
        {
          "data": {
            "text/plain": [
              "<Axes: >"
            ]
          },
          "execution_count": 52,
          "metadata": {},
          "output_type": "execute_result"
        },
        {
          "data": {
            "image/png": "[encoded data removed]",
            "text/plain": [
              "<Figure size 1200x500 with 1 Axes>"
            ]
          },
          "metadata": {},
          "output_type": "display_data"
        }
      ],
      "source": [
        "fig, ax = plt.subplots(figsize=(12,5))\n",
        "sns.heatmap(data.corr(method='pearson'), ax=ax, annot=True, cbar=False, fmt='.2f')"
      ]
    },
    {
      "cell_type": "markdown",
      "id": "2af1df6b",
      "metadata": {
        "id": "2af1df6b"
      },
      "source": [
        "## Разделение выборки"
      ]
    },
    {
      "cell_type": "code",
      "execution_count": 53,
      "id": "efbf4849",
      "metadata": {
        "id": "efbf4849"
      },
      "outputs": [],
      "source": [
        "X = data.drop(['House_Price'], axis=1)\n",
        "y = data['House_Price']\n",
        "\n",
        "X_train, X_test, y_train, y_test = train_test_split(X, y, test_size=0.2, random_state=10)"
      ]
    },
    {
      "cell_type": "markdown",
      "id": "ca4f10b3",
      "metadata": {
        "id": "ca4f10b3"
      },
      "source": [
        "## Масштабирование данных\n",
        "Масштабирование предполагает изменение диапазона измерения величины."
      ]
    },
    {
      "cell_type": "code",
      "execution_count": 54,
      "id": "0b27aab0",
      "metadata": {
        "id": "0b27aab0"
      },
      "outputs": [],
      "source": [
        "scaler = StandardScaler()\n",
        "\n",
        "X_train = scaler.fit_transform(X_train)\n",
        "X_test = scaler.transform(X_test)"
      ]
    },
    {
      "cell_type": "markdown",
      "id": "2c5ee8c2",
      "metadata": {
        "id": "2c5ee8c2"
      },
      "source": [
        "## Обучение и оценка моделей"
      ]
    },
    {
      "cell_type": "markdown",
      "id": "2vzCB9Nh-oFe",
      "metadata": {
        "id": "2vzCB9Nh-oFe"
      },
      "source": [
        "## Оценка качества моделей\n",
        "\n",
        "1. **Mean absolute error** - средняя абсолютная ошибка\n",
        "\n",
        "    $MAE(y,\\hat{y}) = \\frac{1}{N} \\cdot \\sum\\limits_{i=1}^N \\lvert  y_i - \\hat{y_i} \\rvert $  \n",
        "    где:\n",
        "    - $y$ - истинное значение целевого признака\n",
        "    - $\\hat{y}$ - предсказанное значение целевого признака\n",
        "    - $N$ - размер тестовой выборки\n",
        "\n",
        "    *Чем ближе значение к нулю, тем лучше качество регрессии. Основная проблема метрики состоит в том, что она не нормирована.*\n",
        "\n",
        "2. **Mean squared error** - средняя квадратичная ошибка, **Root mean squared error** - корень из средней квадратичной ошибки\n",
        "\n",
        "    $$MSE(y,\\hat{y}) = \\frac{1}{N} \\cdot \\sum\\limits_{i=1}^N ( y_i - \\hat{y_i} )^2 $$  \n",
        "    где:\n",
        "    - $y$ - истинное значение целевого признака\n",
        "    - $\\hat{y}$ - предсказанное значение целевого признака\n",
        "    - $N$ - размер тестовой выборки\n",
        "\n",
        "    $$RMSE(y,\\hat{y}) = \\sqrt{MSE(y,\\hat{y})} = \\sqrt{ \\frac{1}{N} \\cdot \\sum\\limits_{i=1}^N ( y_i - \\hat{y_i} )^2} $$\n",
        "\n",
        "3. **Median absolute error**\n",
        "\n",
        "    $MedAE(y,\\hat{y}) = median( \\lvert  y_1 - \\hat{y_1} \\rvert, \\dots, \\lvert  y_N - \\hat{y_N} \\rvert)$\n",
        "\n",
        "    Метрика интересна тем, что является устойчивой к выбросам в данных.\n",
        "\n",
        "4. **Метрика $R^2$ или коэффициент детерминации**\n",
        "\n",
        "    $R^2(y,\\hat{y}) = 1 - \\frac{\\sum\\limits_{i=1}^N ( y_i - \\hat{y_i} )^2}{\\sum\\limits_{i=1}^N ( y_i - \\overline{y_i} )^2} $  \n",
        "    где:\n",
        "    - $y$ - истинное значение целевого признака\n",
        "    - $\\hat{y}$ - предсказанное значение целевого признака\n",
        "    - $N$ - размер тестовой выборки\n",
        "    - $\\overline{y_i} = \\frac{1}{N} \\cdot \\sum\\limits_{i=1}^N y_i $\n",
        "\n",
        "    Коэффициент детерминации для модели с константой принимает значения от 0 до 1. Чем ближе значение коэффициента к 1, тем сильнее зависимость. При оценке регрессионных моделей это интерпретируется как соответствие модели данным. Для приемлемых моделей предполагается, что коэффициент детерминации должен быть хотя бы не меньше 50 % (в этом случае коэффициент множественной корреляции превышает по модулю 70 %). Модели с коэффициентом детерминации выше 80 % можно признать достаточно хорошими (коэффициент корреляции превышает 90 %). Значение коэффициента детерминации 1 означает функциональную зависимость между переменными.\n",
        "\n",
        "    Основная проблема применения (выборочного) $R^2$ заключается в том, что его значение увеличивается (не уменьшается) от добавления в модель новых переменных, даже если эти переменные никакого отношения к объясняемой переменной не имеют! Поэтому сравнение моделей с разным количеством факторов с помощью коэффициента детерминации, вообще говоря, некорректно. Для этих целей можно использовать альтернативные показатели."
      ]
    },
    {
      "cell_type": "markdown",
      "id": "EOSRiTQL-cI6",
      "metadata": {
        "id": "EOSRiTQL-cI6"
      },
      "source": [
        "### Модель группы стекинга"
      ]
    },
    {
      "cell_type": "code",
      "execution_count": 61,
      "id": "452afb5b",
      "metadata": {
        "colab": {
          "base_uri": "https://localhost:8080/"
        },
        "id": "452afb5b",
        "outputId": "ede748c9-6c51-46ba-bc30-d60d9a90c10e"
      },
      "outputs": [
        {
          "name": "stdout",
          "output_type": "stream",
          "text": [
            "LinearRegression()\n",
            "MAE=8111.297082965999\n",
            "MSE=108162680.0895218\n",
            "MedAE=6482.716031298565\n",
            "R²=0.9982059969268084\n",
            "==========================\n",
            "\n",
            "DecisionTreeRegressor()\n",
            "MAE=25446.324825678785\n",
            "MSE=1048444332.7104428\n",
            "MedAE=22634.145140340435\n",
            "R²=0.9820760552461814\n",
            "==========================\n",
            "\n",
            "RandomForestRegressor(n_estimators=50)\n",
            "MAE=19478.54735107067\n",
            "MSE=590609674.0433503\n",
            "MedAE=15044.385040024237\n",
            "R²=0.990343130545355\n",
            "==========================\n",
            "\n"
          ]
        }
      ],
      "source": [
        "# Качество отдельных моделей\n",
        "def val_mae(model):\n",
        "    model.fit(X_train, y_train)\n",
        "    y_pred = model.predict(X_test)\n",
        "    result = mean_absolute_error(y_test, y_pred)\n",
        "    print('MAE={}'.format(result))\n",
        "\n",
        "def val_mse(model):\n",
        "    model.fit(X_train, y_train)\n",
        "    y_pred = model.predict(X_test)\n",
        "    result = mean_squared_error(y_test, y_pred)\n",
        "    print('MSE={}'.format(result))\n",
        "\n",
        "def val_MedAE(model):\n",
        "    model.fit(X_train, y_train)\n",
        "    y_pred = model.predict(X_test)\n",
        "    result = median_absolute_error(y_test, y_pred)\n",
        "    print('MedAE={}'.format(result))\n",
        "\n",
        "def val_r2(model):\n",
        "    model.fit(X_train, y_train)\n",
        "    y_pred = model.predict(X_test)\n",
        "    result = r2_score(y_test, y_pred)\n",
        "    print('R²={}'.format(result))\n",
        "\n",
        "# Точность на отдельных моделях\n",
        "for model in [\n",
        "    LinearRegression(),\n",
        "    DecisionTreeRegressor(),\n",
        "    RandomForestRegressor(n_estimators=50)\n",
        "]:\n",
        "    print(model)\n",
        "    val_mae(model)\n",
        "    val_mse(model)\n",
        "    val_MedAE(model)\n",
        "    val_r2(model)\n",
        "    print('==========================')\n",
        "    print()"
      ]
    },
    {
      "cell_type": "code",
      "execution_count": 56,
      "id": "f517adbd",
      "metadata": {
        "id": "f517adbd"
      },
      "outputs": [],
      "source": [
        "# Используем библиотеку heamy\n",
        "# набор данных\n",
        "dataset = Dataset(X_train, y_train, X_test)\n",
        "\n",
        "# модели первого уровня\n",
        "model_tree = Regressor(dataset=dataset, estimator=DecisionTreeRegressor, name='tree')\n",
        "model_lr = Regressor(dataset=dataset, estimator=LinearRegression, parameters={'normalize': True},name='lr')\n",
        "model_rf = Regressor(dataset=dataset, estimator=RandomForestRegressor, parameters={'n_estimators': 50},name='rf')"
      ]
    },
    {
      "cell_type": "code",
      "execution_count": 57,
      "id": "faa11e4d",
      "metadata": {
        "colab": {
          "base_uri": "https://localhost:8080/"
        },
        "id": "faa11e4d",
        "outputId": "6d17bb53-69b2-4744-e8f6-4e04631c5d67"
      },
      "outputs": [
        {
          "name": "stdout",
          "output_type": "stream",
          "text": [
            "Metric: mean_absolute_error\n",
            "Folds accuracy: [15766.787130513001, 15230.645462187653, 18469.974667451814, 17283.986271735204, 16267.76631475433, 17294.877286979194, 17485.212863752568, 17670.996305663626, 17716.02593963406, 14491.038847078398]\n",
            "Mean accuracy: 16767.731108974986\n",
            "Standard Deviation: 1202.9040016850108\n",
            "Variance: 1446978.0372698128\n"
          ]
        }
      ],
      "source": [
        "# Первый уровень: дерево и случайный лес\n",
        "# Второй уровень: линейная регрессия\n",
        "pipeline = ModelsPipeline(model_tree, model_rf)\n",
        "stack_ds3 = pipeline.stack(k=10, seed=1)\n",
        "# модель второго уровня\n",
        "stacker = Regressor(dataset=stack_ds3, estimator=LinearRegression)\n",
        "results = stacker.validate(k=10,scorer=mean_absolute_error)"
      ]
    },
    {
      "cell_type": "code",
      "execution_count": 58,
      "id": "KPhQ8zlml582",
      "metadata": {
        "colab": {
          "base_uri": "https://localhost:8080/"
        },
        "id": "KPhQ8zlml582",
        "outputId": "de15b248-7d55-4ad5-d45a-17bcb8cae320"
      },
      "outputs": [
        {
          "name": "stdout",
          "output_type": "stream",
          "text": [
            "Stacking Model R²: 0.9982057438865155\n"
          ]
        }
      ],
      "source": [
        "from sklearn.ensemble import StackingRegressor\n",
        "from sklearn.linear_model import LinearRegression\n",
        "from sklearn.tree import DecisionTreeRegressor\n",
        "\n",
        "# Определяем базовые модели\n",
        "base_models = [\n",
        "    ('lr', LinearRegression()),\n",
        "    ('dt', DecisionTreeRegressor())\n",
        "]\n",
        "\n",
        "# Модель стекинга\n",
        "stacking_model = StackingRegressor(estimators=base_models, final_estimator=LinearRegression())\n",
        "stacking_model.fit(X_train, y_train)\n",
        "\n",
        "# Оценка модели\n",
        "stacking_score = stacking_model.score(X_test, y_test)\n",
        "print(f'Stacking Model R²: {stacking_score}')"
      ]
    },
    {
      "cell_type": "markdown",
      "id": "85b8b4f7",
      "metadata": {
        "id": "85b8b4f7"
      },
      "source": [
        "### Модель многослойного персептрона"
      ]
    },
    {
      "cell_type": "code",
      "execution_count": 59,
      "id": "db9da84a",
      "metadata": {
        "colab": {
          "base_uri": "https://localhost:8080/"
        },
        "id": "db9da84a",
        "outputId": "4f63b328-c660-4ee1-a4ad-cfd54b5839d8"
      },
      "outputs": [
        {
          "name": "stdout",
          "output_type": "stream",
          "text": [
            "MLP Regressor score: -6.94371839213182\n"
          ]
        },
        {
          "name": "stderr",
          "output_type": "stream",
          "text": [
            "/usr/local/lib/python3.11/dist-packages/sklearn/neural_network/_multilayer_perceptron.py:691: ConvergenceWarning: Stochastic Optimizer: Maximum iterations (500) reached and the optimization hasn't converged yet.\n",
            "  warnings.warn(\n"
          ]
        }
      ],
      "source": [
        "# Создаем модель Многослойного персептрона\n",
        "mlp = MLPRegressor(hidden_layer_sizes=(100,), max_iter=500, random_state=10)\n",
        "# Обучаем модель\n",
        "mlp.fit(X_train, y_train)\n",
        "print(f'MLP Regressor score: {mlp.score(X_test, y_test)}')\n"
      ]
    },
    {
      "cell_type": "code",
      "execution_count": 60,
      "id": "c4OMVkN6oAME",
      "metadata": {
        "colab": {
          "base_uri": "https://localhost:8080/"
        },
        "id": "c4OMVkN6oAME",
        "outputId": "9ecb1bef-9cb3-494f-8bf7-9fe4c8cd1b3c"
      },
      "outputs": [
        {
          "name": "stdout",
          "output_type": "stream",
          "text": [
            "MLP Model R²: -3.5113526310806975\n"
          ]
        },
        {
          "name": "stderr",
          "output_type": "stream",
          "text": [
            "/usr/local/lib/python3.11/dist-packages/sklearn/neural_network/_multilayer_perceptron.py:691: ConvergenceWarning: Stochastic Optimizer: Maximum iterations (500) reached and the optimization hasn't converged yet.\n",
            "  warnings.warn(\n"
          ]
        }
      ],
      "source": [
        "# b) Многослойный персептрон (MLPRegressor)\n",
        "mlp_model = MLPRegressor(hidden_layer_sizes=(64, 64), activation='relu', max_iter=500, random_state=10)\n",
        "mlp_model.fit(X_train, y_train)\n",
        "\n",
        "# Оценка модели MLPRegressor\n",
        "mlp_score = mlp_model.score(X_test, y_test)\n",
        "print(f'MLP Model R²: {mlp_score}')"
      ]
    },
    {
      "cell_type": "markdown",
      "id": "30c0ec52",
      "metadata": {
        "id": "30c0ec52"
      },
      "source": [
        "### МГУА\n",
        "\n",
        "Слои нейронной сети выращиваются с помощью эволюционных методов (разновидностей генетического алгоритма) до тех пор пока растет качество модели и еще не наступает переобучение."
      ]
    },
    {
      "cell_type": "code",
      "execution_count": null,
      "id": "7deCwJIggW3r",
      "metadata": {
        "colab": {
          "base_uri": "https://localhost:8080/",
          "height": 533
        },
        "id": "7deCwJIggW3r",
        "outputId": "7362aca2-cf3d-4d23-feea-e86efe2f0062"
      },
      "outputs": [
        {
          "name": "stdout",
          "output_type": "stream",
          "text": [
            "Found existing installation: numpy 1.24.4\n",
            "Uninstalling numpy-1.24.4:\n",
            "  Successfully uninstalled numpy-1.24.4\n",
            "Collecting numpy==1.24.4\n",
            "  Using cached numpy-1.24.4-cp311-cp311-manylinux_2_17_x86_64.manylinux2014_x86_64.whl.metadata (5.6 kB)\n",
            "Using cached numpy-1.24.4-cp311-cp311-manylinux_2_17_x86_64.manylinux2014_x86_64.whl (17.3 MB)\n",
            "Installing collected packages: numpy\n",
            "\u001b[31mERROR: pip's dependency resolver does not currently take into account all the packages that are installed. This behaviour is the source of the following dependency conflicts.\n",
            "jaxlib 0.5.1 requires numpy>=1.25, but you have numpy 1.24.4 which is incompatible.\n",
            "pymc 5.21.2 requires numpy>=1.25.0, but you have numpy 1.24.4 which is incompatible.\n",
            "blosc2 3.3.0 requires numpy>=1.26, but you have numpy 1.24.4 which is incompatible.\n",
            "tensorflow 2.18.0 requires numpy<2.1.0,>=1.26.0, but you have numpy 1.24.4 which is incompatible.\n",
            "jax 0.5.2 requires numpy>=1.25, but you have numpy 1.24.4 which is incompatible.\n",
            "thinc 8.3.6 requires numpy<3.0.0,>=2.0.0, but you have numpy 1.24.4 which is incompatible.\n",
            "treescope 0.1.9 requires numpy>=1.25.2, but you have numpy 1.24.4 which is incompatible.\u001b[0m\u001b[31m\n",
            "\u001b[0mSuccessfully installed numpy-1.24.4\n"
          ]
        },
        {
          "name": "stderr",
          "output_type": "stream",
          "text": [
            "<frozen importlib._bootstrap>:1047: ImportWarning: _PyDriveImportHook.find_spec() not found; falling back to find_module()\n",
            "<frozen importlib._bootstrap>:1047: ImportWarning: _BokehImportHook.find_spec() not found; falling back to find_module()\n",
            "<frozen importlib._bootstrap>:1047: ImportWarning: _PyDriveImportHook.find_spec() not found; falling back to find_module()\n",
            "<frozen importlib._bootstrap>:1047: ImportWarning: _BokehImportHook.find_spec() not found; falling back to find_module()\n",
            "/usr/local/lib/python3.11/dist-packages/google/colab/_pip.py:86: ResourceWarning: unclosed file <_io.TextIOWrapper name='/usr/local/lib/python3.11/dist-packages/numpy-1.24.4.dist-info/top_level.txt' mode='r' encoding='utf-8'>\n",
            "  for line in open(toplevel):\n",
            "ResourceWarning: Enable tracemalloc to get the object allocation traceback\n"
          ]
        },
        {
          "data": {
            "application/vnd.colab-display-data+json": {
              "id": "6938514856f84c9a8bc3e54fd52b733e",
              "pip_warning": {
                "packages": [
                  "numpy"
                ]
              }
            }
          },
          "metadata": {},
          "output_type": "display_data"
        }
      ],
      "source": [
        "!pip uninstall numpy -y\n",
        "!pip install numpy==1.24.4"
      ]
    },
    {
      "cell_type": "code",
      "execution_count": null,
      "id": "Q8fpkDjNLh2J",
      "metadata": {
        "colab": {
          "base_uri": "https://localhost:8080/"
        },
        "id": "Q8fpkDjNLh2J",
        "outputId": "87e4ad46-c14b-4242-e516-c40a5b40fd4a"
      },
      "outputs": [
        {
          "name": "stdout",
          "output_type": "stream",
          "text": [
            "Requirement already satisfied: gmdh in /usr/local/lib/python3.11/dist-packages (1.0.3)\n",
            "Requirement already satisfied: docstring-inheritance in /usr/local/lib/python3.11/dist-packages (from gmdh) (2.2.2)\n",
            "Requirement already satisfied: numpy in /usr/local/lib/python3.11/dist-packages (from gmdh) (1.24.4)\n"
          ]
        }
      ],
      "source": [
        "!pip3 install gmdh"
      ]
    },
    {
      "cell_type": "code",
      "execution_count": null,
      "id": "gb-AE8LcNfVZ",
      "metadata": {
        "id": "gb-AE8LcNfVZ"
      },
      "outputs": [],
      "source": [
        "import gmdh\n",
        "from gmdh import Combi, Mia, split_data"
      ]
    },
    {
      "cell_type": "code",
      "execution_count": 62,
      "id": "tYAfo3DaNPRv",
      "metadata": {
        "id": "tYAfo3DaNPRv"
      },
      "outputs": [],
      "source": [
        "X_train, X_test, y_train, y_test = split_data(X, y)"
      ]
    },
    {
      "cell_type": "code",
      "execution_count": 63,
      "id": "988e4d44",
      "metadata": {
        "id": "988e4d44"
      },
      "outputs": [],
      "source": [
        "def print_metrics(y_test, y_pred, squared=False):\n",
        "    print(f\"R^2: {r2_score(y_test, y_pred)}\")\n",
        "    crit_name = \"MSE\" if squared else \"RMSE\"\n",
        "    print(f\"{crit_name}: {mean_squared_error(y_test, y_pred)}\")\n",
        "    print(f\"MAE: {mean_absolute_error(y_test, y_pred)}\")"
      ]
    },
    {
      "cell_type": "markdown",
      "id": "wUTnICVNMfEu",
      "metadata": {
        "id": "wUTnICVNMfEu"
      },
      "source": [
        "### COMBI"
      ]
    },
    {
      "cell_type": "code",
      "execution_count": 64,
      "id": "32c7014e",
      "metadata": {
        "colab": {
          "base_uri": "https://localhost:8080/"
        },
        "id": "32c7014e",
        "outputId": "32c88e0a-333d-4fdd-9be8-be1a6dc89e68"
      },
      "outputs": [
        {
          "name": "stdout",
          "output_type": "stream",
          "text": [
            "LEVEL 1  [=========================] 100% [00m:00s] (7 combinations) error=2.08163e+11\n",
            "LEVEL 2  [=========================] 100% [00m:00s] (21 combinations) error=1.4153e+11\n",
            "LEVEL 3  [=========================] 100% [00m:00s] (35 combinations) error=7.32315e+1\n",
            "LEVEL 4  [=========================] 100% [00m:00s] (35 combinations) error=2.77816e+1\n",
            "LEVEL 5  [=========================] 100% [00m:00s] (21 combinations) error=2.15603e+1\n",
            "LEVEL 6  [=========================] 100% [00m:00s] (7 combinations) error=1.86144e+1\n",
            "LEVEL 7  [=========================] 100% [00m:00s] (1 combinations) error=1.86181e+1\n",
            "\n",
            "y = 199.7451*x1 + 10453.9621*x2 + 8274.5805*x3 + 15133.6826*x4 + 5133.7659*x5 - 988.5595*x7 - 195.9368\n",
            "\n",
            "R^2: 0.9985513697113126\n",
            "RMSE: 88462238.99707367\n",
            "MAE: 7548.291078568521\n"
          ]
        }
      ],
      "source": [
        "combi_model = gmdh.Combi()\n",
        "combi_model.fit(X_train, y_train, verbose=1, n_jobs=-1, test_size=0.24, limit=0,\n",
        "                       criterion=gmdh.Criterion(gmdh.CriterionType.REGULARITY))\n",
        "print()\n",
        "print(combi_model.get_best_polynomial())\n",
        "print()\n",
        "y_pred = combi_model.predict(X_test)\n",
        "print_metrics(y_test, y_pred)"
      ]
    },
    {
      "cell_type": "markdown",
      "id": "8ZIBjR2rNaK9",
      "metadata": {
        "id": "8ZIBjR2rNaK9"
      },
      "source": [
        "### MIA"
      ]
    },
    {
      "cell_type": "code",
      "execution_count": 65,
      "id": "sytirsBlM10a",
      "metadata": {
        "colab": {
          "base_uri": "https://localhost:8080/"
        },
        "id": "sytirsBlM10a",
        "outputId": "9f018911-b3b9-43a0-8617-5814180cd93e"
      },
      "outputs": [
        {
          "name": "stdout",
          "output_type": "stream",
          "text": [
            "LEVEL 1  [=========================] 100% [00m:00s] (21 combinations) error=1.4577e+11\n",
            "LEVEL 2  [=========================] 100% [00m:00s] (3 combinations) error=1.09262e+11\n",
            "LEVEL 3  [=========================] 100% [00m:00s] (3 combinations) error=1.08636e+11\n",
            "LEVEL 4  [=========================] 100% [00m:00s] (3 combinations) error=1.0821e+11\n",
            "LEVEL 5  [=========================] 100% [00m:00s] (3 combinations) error=1.07984e+11\n",
            "LEVEL 6  [=========================] 100% [00m:00s] (3 combinations) error=1.07e+11\n",
            "LEVEL 7  [=========================] 100% [00m:00s] (3 combinations) error=1.07661e+11\n",
            "\n",
            "f1_1 = 195.7217*x1 - 1381.1177*x7 + 0.0408*x1*x7 + 0.0005*x1^2 + 4.1399*x7^2 + 105260.1645\n",
            "f1_2 = 199.5406*x1 + 11224.7911*x4 - 0.8057*x1*x4 + 0.0004*x1^2 + 1080.3525*x4^2 + 17734.0865\n",
            "f1_3 = 198.2876*x1 + 14186.1839*x2 - 0.1645*x1*x2 + 0.0006*x1^2 - 495.9611*x2^2 + 20252.9199\n",
            "\n",
            "f2_1 = 0.5483*f1_1 + 0.4554*f1_2 - 4.92316e-07*f1_1*f1_2 + 2.13024e-07*f1_1^2 + 2.78673e-07*f1_2^2 - 2211.9558\n",
            "f2_2 = 0.6404*f1_1 + 0.3627*f1_3 - 3.09179e-06*f1_1*f1_3 + 1.52362e-06*f1_1^2 + 1.56768e-06*f1_3^2 - 2639.0489\n",
            "f2_3 = 0.6093*f1_2 + 0.3936*f1_3 + 1.73745e-06*f1_2*f1_3 - 8.6425e-07*f1_2^2 - 8.73837e-07*f1_3^2 - 992.5241\n",
            "\n",
            "f3_1 = 0.8304*f2_1 + 0.171*f2_2 + 1.61947e-05*f2_1*f2_2 - 8.06608e-06*f2_1^2 - 8.12945e-06*f2_2^2 + 534.597\n",
            "f3_2 = 0.6157*f2_2 + 0.3862*f2_3 - 2.42765e-06*f2_2*f2_3 + 1.13739e-06*f2_2^2 + 1.28966e-06*f2_3^2 - 1270.654\n",
            "f3_3 = 0.8897*f2_1 + 0.1106*f2_3 - 2.03349e-05*f2_1*f2_3 + 1.01501e-05*f2_1^2 + 1.01853e-05*f2_3^2 - 1818.6693\n",
            "\n",
            "f4_1 = 0.8033*f3_1 + 0.1964*f3_2 - 3.85683e-05*f3_1*f3_2 + 1.93255e-05*f3_1^2 + 1.92432e-05*f3_2^2 - 910.3686\n",
            "f4_2 = 0.2398*f3_2 + 0.7608*f3_3 + 4.93987e-06*f3_2*f3_3 - 2.52441e-06*f3_2^2 - 2.41583e-06*f3_3^2 - 44.9007\n",
            "f4_3 = 0.1124*f3_1 + 0.8873*f3_3 + 5.67486e-05*f3_1*f3_3 - 2.81528e-05*f3_1^2 - 2.85957e-05*f3_3^2 + 331.0648\n",
            "\n",
            "f5_1 = 0.1676*f4_1 + 0.8293*f4_3 + 0.0005*f4_1*f4_3 - 0.0002*f4_1^2 - 0.0002*f4_3^2 + 2292.284\n",
            "f5_2 = - 0.4664*f4_1 + 1.4656*f4_2 + 0.0002*f4_1*f4_2 - 0.0001*f4_1^2 - 0.0001*f4_2^2 + 906.7248\n",
            "\n",
            "y = - 0.2929*f5_1 + 1.2931*f5_2 + 5.672e-05*f5_1*f5_2 - 2.73929e-05*f5_1^2 - 2.93275e-05*f5_2^2 + 146.4503\n",
            "\n",
            "R^2: 0.9915653888244382\n",
            "RMSE: 515069024.5031711\n",
            "MAE: 18327.725357127594\n"
          ]
        }
      ],
      "source": [
        "mia_model = gmdh.Mia()\n",
        "\n",
        "mia_model.fit(X_train, y_train, verbose=1, n_jobs=-1, test_size=0.24, limit=0,\n",
        "                       criterion=gmdh.Criterion(gmdh.CriterionType.REGULARITY))\n",
        "print()\n",
        "print(mia_model.get_best_polynomial())\n",
        "print()\n",
        "y_pred = mia_model.predict(X_test)\n",
        "print_metrics(y_test, y_pred)"
      ]
    }
  ],
  "metadata": {
    "colab": {
      "provenance": []
    },
    "kernelspec": {
      "display_name": ".venv",
      "language": "python",
      "name": "python3"
    },
    "language_info": {
      "codemirror_mode": {
        "name": "ipython",
        "version": 3
      },
      "file_extension": ".py",
      "mimetype": "text/x-python",
      "name": "python",
      "nbconvert_exporter": "python",
      "pygments_lexer": "ipython3",
      "version": "3.13.3"
    }
  },
  "nbformat": 4,
  "nbformat_minor": 5
}
